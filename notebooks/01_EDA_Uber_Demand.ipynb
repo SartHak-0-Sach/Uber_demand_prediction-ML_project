{
 "cells": [
  {
   "cell_type": "code",
   "execution_count": null,
   "metadata": {},
   "outputs": [
    {
     "name": "stdout",
     "output_type": "stream",
     "text": [
      "Shape of combined dataset: (4534327, 4)\n"
     ]
    },
    {
     "data": {
      "application/vnd.microsoft.datawrangler.viewer.v0+json": {
       "columns": [
        {
         "name": "index",
         "rawType": "int64",
         "type": "integer"
        },
        {
         "name": "Date/Time",
         "rawType": "object",
         "type": "string"
        },
        {
         "name": "Lat",
         "rawType": "float64",
         "type": "float"
        },
        {
         "name": "Lon",
         "rawType": "float64",
         "type": "float"
        },
        {
         "name": "Base",
         "rawType": "object",
         "type": "string"
        }
       ],
       "conversionMethod": "pd.DataFrame",
       "ref": "6e2ecfc1-f279-411b-80ef-c59425825970",
       "rows": [
        [
         "0",
         "4/1/2014 0:11:00",
         "40.769",
         "-73.9549",
         "B02512"
        ],
        [
         "1",
         "4/1/2014 0:17:00",
         "40.7267",
         "-74.0345",
         "B02512"
        ],
        [
         "2",
         "4/1/2014 0:21:00",
         "40.7316",
         "-73.9873",
         "B02512"
        ],
        [
         "3",
         "4/1/2014 0:28:00",
         "40.7588",
         "-73.9776",
         "B02512"
        ],
        [
         "4",
         "4/1/2014 0:33:00",
         "40.7594",
         "-73.9722",
         "B02512"
        ]
       ],
       "shape": {
        "columns": 4,
        "rows": 5
       }
      },
      "text/html": [
       "<div>\n",
       "<style scoped>\n",
       "    .dataframe tbody tr th:only-of-type {\n",
       "        vertical-align: middle;\n",
       "    }\n",
       "\n",
       "    .dataframe tbody tr th {\n",
       "        vertical-align: top;\n",
       "    }\n",
       "\n",
       "    .dataframe thead th {\n",
       "        text-align: right;\n",
       "    }\n",
       "</style>\n",
       "<table border=\"1\" class=\"dataframe\">\n",
       "  <thead>\n",
       "    <tr style=\"text-align: right;\">\n",
       "      <th></th>\n",
       "      <th>Date/Time</th>\n",
       "      <th>Lat</th>\n",
       "      <th>Lon</th>\n",
       "      <th>Base</th>\n",
       "    </tr>\n",
       "  </thead>\n",
       "  <tbody>\n",
       "    <tr>\n",
       "      <th>0</th>\n",
       "      <td>4/1/2014 0:11:00</td>\n",
       "      <td>40.7690</td>\n",
       "      <td>-73.9549</td>\n",
       "      <td>B02512</td>\n",
       "    </tr>\n",
       "    <tr>\n",
       "      <th>1</th>\n",
       "      <td>4/1/2014 0:17:00</td>\n",
       "      <td>40.7267</td>\n",
       "      <td>-74.0345</td>\n",
       "      <td>B02512</td>\n",
       "    </tr>\n",
       "    <tr>\n",
       "      <th>2</th>\n",
       "      <td>4/1/2014 0:21:00</td>\n",
       "      <td>40.7316</td>\n",
       "      <td>-73.9873</td>\n",
       "      <td>B02512</td>\n",
       "    </tr>\n",
       "    <tr>\n",
       "      <th>3</th>\n",
       "      <td>4/1/2014 0:28:00</td>\n",
       "      <td>40.7588</td>\n",
       "      <td>-73.9776</td>\n",
       "      <td>B02512</td>\n",
       "    </tr>\n",
       "    <tr>\n",
       "      <th>4</th>\n",
       "      <td>4/1/2014 0:33:00</td>\n",
       "      <td>40.7594</td>\n",
       "      <td>-73.9722</td>\n",
       "      <td>B02512</td>\n",
       "    </tr>\n",
       "  </tbody>\n",
       "</table>\n",
       "</div>"
      ],
      "text/plain": [
       "          Date/Time      Lat      Lon    Base\n",
       "0  4/1/2014 0:11:00  40.7690 -73.9549  B02512\n",
       "1  4/1/2014 0:17:00  40.7267 -74.0345  B02512\n",
       "2  4/1/2014 0:21:00  40.7316 -73.9873  B02512\n",
       "3  4/1/2014 0:28:00  40.7588 -73.9776  B02512\n",
       "4  4/1/2014 0:33:00  40.7594 -73.9722  B02512"
      ]
     },
     "execution_count": 2,
     "metadata": {},
     "output_type": "execute_result"
    }
   ],
   "source": [
    "import pandas as pd\n",
    "import glob\n",
    "import os\n",
    "\n",
    "# Path to data folder\n",
    "data_path = '../data/'\n",
    "\n",
    "# List of all Uber CSV files for 2014\n",
    "uber_files = sorted(glob.glob(os.path.join(data_path, 'uber-raw-data-*.csv')))\n",
    "\n",
    "# Load and concatenate all CSVs\n",
    "df_list = []\n",
    "for file in uber_files:\n",
    "    temp_df = pd.read_csv(file)\n",
    "    df_list.append(temp_df)\n",
    "\n",
    "df = pd.concat(df_list, ignore_index=True)\n",
    "print(f\"Shape of combined dataset: {df.shape}\")\n",
    "df.head()"
   ]
  },
  {
   "cell_type": "code",
   "execution_count": 3,
   "metadata": {},
   "outputs": [
    {
     "data": {
      "application/vnd.microsoft.datawrangler.viewer.v0+json": {
       "columns": [
        {
         "name": "index",
         "rawType": "int64",
         "type": "integer"
        },
        {
         "name": "Date/Time",
         "rawType": "datetime64[ns]",
         "type": "datetime"
        },
        {
         "name": "Lat",
         "rawType": "float64",
         "type": "float"
        },
        {
         "name": "Lon",
         "rawType": "float64",
         "type": "float"
        },
        {
         "name": "Base",
         "rawType": "object",
         "type": "string"
        },
        {
         "name": "Hour",
         "rawType": "int32",
         "type": "integer"
        },
        {
         "name": "Day",
         "rawType": "int32",
         "type": "integer"
        },
        {
         "name": "Weekday",
         "rawType": "int32",
         "type": "integer"
        },
        {
         "name": "Month",
         "rawType": "int32",
         "type": "integer"
        }
       ],
       "conversionMethod": "pd.DataFrame",
       "ref": "0009ce11-aa38-4e70-a16d-ab4adc354440",
       "rows": [
        [
         "0",
         "2014-04-01 00:11:00",
         "40.769",
         "-73.9549",
         "B02512",
         "0",
         "1",
         "1",
         "4"
        ],
        [
         "1",
         "2014-04-01 00:17:00",
         "40.7267",
         "-74.0345",
         "B02512",
         "0",
         "1",
         "1",
         "4"
        ],
        [
         "2",
         "2014-04-01 00:21:00",
         "40.7316",
         "-73.9873",
         "B02512",
         "0",
         "1",
         "1",
         "4"
        ],
        [
         "3",
         "2014-04-01 00:28:00",
         "40.7588",
         "-73.9776",
         "B02512",
         "0",
         "1",
         "1",
         "4"
        ],
        [
         "4",
         "2014-04-01 00:33:00",
         "40.7594",
         "-73.9722",
         "B02512",
         "0",
         "1",
         "1",
         "4"
        ],
        [
         "5",
         "2014-04-01 00:33:00",
         "40.7383",
         "-74.0403",
         "B02512",
         "0",
         "1",
         "1",
         "4"
        ],
        [
         "6",
         "2014-04-01 00:39:00",
         "40.7223",
         "-73.9887",
         "B02512",
         "0",
         "1",
         "1",
         "4"
        ],
        [
         "7",
         "2014-04-01 00:45:00",
         "40.762",
         "-73.979",
         "B02512",
         "0",
         "1",
         "1",
         "4"
        ],
        [
         "8",
         "2014-04-01 00:55:00",
         "40.7524",
         "-73.996",
         "B02512",
         "0",
         "1",
         "1",
         "4"
        ],
        [
         "9",
         "2014-04-01 01:01:00",
         "40.7575",
         "-73.9846",
         "B02512",
         "1",
         "1",
         "1",
         "4"
        ],
        [
         "10",
         "2014-04-01 01:19:00",
         "40.7256",
         "-73.9869",
         "B02512",
         "1",
         "1",
         "1",
         "4"
        ],
        [
         "11",
         "2014-04-01 01:48:00",
         "40.7591",
         "-73.9684",
         "B02512",
         "1",
         "1",
         "1",
         "4"
        ],
        [
         "12",
         "2014-04-01 01:49:00",
         "40.7271",
         "-73.9803",
         "B02512",
         "1",
         "1",
         "1",
         "4"
        ],
        [
         "13",
         "2014-04-01 02:11:00",
         "40.6463",
         "-73.7896",
         "B02512",
         "2",
         "1",
         "1",
         "4"
        ],
        [
         "14",
         "2014-04-01 02:25:00",
         "40.7564",
         "-73.9167",
         "B02512",
         "2",
         "1",
         "1",
         "4"
        ],
        [
         "15",
         "2014-04-01 02:31:00",
         "40.7666",
         "-73.9531",
         "B02512",
         "2",
         "1",
         "1",
         "4"
        ],
        [
         "16",
         "2014-04-01 02:43:00",
         "40.758",
         "-73.9761",
         "B02512",
         "2",
         "1",
         "1",
         "4"
        ],
        [
         "17",
         "2014-04-01 03:22:00",
         "40.7238",
         "-73.9821",
         "B02512",
         "3",
         "1",
         "1",
         "4"
        ],
        [
         "18",
         "2014-04-01 03:35:00",
         "40.7531",
         "-74.0039",
         "B02512",
         "3",
         "1",
         "1",
         "4"
        ],
        [
         "19",
         "2014-04-01 03:35:00",
         "40.7389",
         "-74.0393",
         "B02512",
         "3",
         "1",
         "1",
         "4"
        ],
        [
         "20",
         "2014-04-01 03:41:00",
         "40.7619",
         "-73.9715",
         "B02512",
         "3",
         "1",
         "1",
         "4"
        ],
        [
         "21",
         "2014-04-01 04:11:00",
         "40.753",
         "-74.0042",
         "B02512",
         "4",
         "1",
         "1",
         "4"
        ],
        [
         "22",
         "2014-04-01 04:15:00",
         "40.6561",
         "-73.9531",
         "B02512",
         "4",
         "1",
         "1",
         "4"
        ],
        [
         "23",
         "2014-04-01 04:19:00",
         "40.725",
         "-73.9844",
         "B02512",
         "4",
         "1",
         "1",
         "4"
        ],
        [
         "24",
         "2014-04-01 04:20:00",
         "40.695",
         "-74.1783",
         "B02512",
         "4",
         "1",
         "1",
         "4"
        ],
        [
         "25",
         "2014-04-01 04:26:00",
         "40.9859",
         "-74.1578",
         "B02512",
         "4",
         "1",
         "1",
         "4"
        ],
        [
         "26",
         "2014-04-01 04:27:00",
         "40.6879",
         "-74.1814",
         "B02512",
         "4",
         "1",
         "1",
         "4"
        ],
        [
         "27",
         "2014-04-01 04:38:00",
         "40.6878",
         "-74.1816",
         "B02512",
         "4",
         "1",
         "1",
         "4"
        ],
        [
         "28",
         "2014-04-01 04:47:00",
         "40.7234",
         "-73.9974",
         "B02512",
         "4",
         "1",
         "1",
         "4"
        ],
        [
         "29",
         "2014-04-01 04:49:00",
         "40.7336",
         "-73.99",
         "B02512",
         "4",
         "1",
         "1",
         "4"
        ],
        [
         "30",
         "2014-04-01 05:08:00",
         "40.7141",
         "-74.0094",
         "B02512",
         "5",
         "1",
         "1",
         "4"
        ],
        [
         "31",
         "2014-04-01 05:12:00",
         "40.7893",
         "-73.9709",
         "B02512",
         "5",
         "1",
         "1",
         "4"
        ],
        [
         "32",
         "2014-04-01 05:18:00",
         "40.7747",
         "-73.991",
         "B02512",
         "5",
         "1",
         "1",
         "4"
        ],
        [
         "33",
         "2014-04-01 05:19:00",
         "40.7689",
         "-73.9876",
         "B02512",
         "5",
         "1",
         "1",
         "4"
        ],
        [
         "34",
         "2014-04-01 05:23:00",
         "40.7744",
         "-74.0149",
         "B02512",
         "5",
         "1",
         "1",
         "4"
        ],
        [
         "35",
         "2014-04-01 05:24:00",
         "40.7393",
         "-73.9974",
         "B02512",
         "5",
         "1",
         "1",
         "4"
        ],
        [
         "36",
         "2014-04-01 05:24:00",
         "40.7776",
         "-73.9752",
         "B02512",
         "5",
         "1",
         "1",
         "4"
        ],
        [
         "37",
         "2014-04-01 05:27:00",
         "40.6483",
         "-73.7829",
         "B02512",
         "5",
         "1",
         "1",
         "4"
        ],
        [
         "38",
         "2014-04-01 05:34:00",
         "40.6907",
         "-74.1782",
         "B02512",
         "5",
         "1",
         "1",
         "4"
        ],
        [
         "39",
         "2014-04-01 05:36:00",
         "40.7217",
         "-73.9875",
         "B02512",
         "5",
         "1",
         "1",
         "4"
        ],
        [
         "40",
         "2014-04-01 05:36:00",
         "40.7651",
         "-73.9632",
         "B02512",
         "5",
         "1",
         "1",
         "4"
        ],
        [
         "41",
         "2014-04-01 05:40:00",
         "40.7437",
         "-73.9985",
         "B02512",
         "5",
         "1",
         "1",
         "4"
        ],
        [
         "42",
         "2014-04-01 05:43:00",
         "40.7605",
         "-73.978",
         "B02512",
         "5",
         "1",
         "1",
         "4"
        ],
        [
         "43",
         "2014-04-01 05:44:00",
         "40.743",
         "-74.0301",
         "B02512",
         "5",
         "1",
         "1",
         "4"
        ],
        [
         "44",
         "2014-04-01 05:44:00",
         "40.743",
         "-74.0301",
         "B02512",
         "5",
         "1",
         "1",
         "4"
        ],
        [
         "45",
         "2014-04-01 05:49:00",
         "40.7423",
         "-74.0371",
         "B02512",
         "5",
         "1",
         "1",
         "4"
        ],
        [
         "46",
         "2014-04-01 05:49:00",
         "40.7236",
         "-74.0037",
         "B02512",
         "5",
         "1",
         "1",
         "4"
        ],
        [
         "47",
         "2014-04-01 05:52:00",
         "40.7723",
         "-73.9527",
         "B02512",
         "5",
         "1",
         "1",
         "4"
        ],
        [
         "48",
         "2014-04-01 05:52:00",
         "40.7574",
         "-73.9862",
         "B02512",
         "5",
         "1",
         "1",
         "4"
        ],
        [
         "49",
         "2014-04-01 05:53:00",
         "40.7838",
         "-73.9504",
         "B02512",
         "5",
         "1",
         "1",
         "4"
        ]
       ],
       "shape": {
        "columns": 8,
        "rows": 4534327
       }
      },
      "text/html": [
       "<div>\n",
       "<style scoped>\n",
       "    .dataframe tbody tr th:only-of-type {\n",
       "        vertical-align: middle;\n",
       "    }\n",
       "\n",
       "    .dataframe tbody tr th {\n",
       "        vertical-align: top;\n",
       "    }\n",
       "\n",
       "    .dataframe thead th {\n",
       "        text-align: right;\n",
       "    }\n",
       "</style>\n",
       "<table border=\"1\" class=\"dataframe\">\n",
       "  <thead>\n",
       "    <tr style=\"text-align: right;\">\n",
       "      <th></th>\n",
       "      <th>Date/Time</th>\n",
       "      <th>Lat</th>\n",
       "      <th>Lon</th>\n",
       "      <th>Base</th>\n",
       "      <th>Hour</th>\n",
       "      <th>Day</th>\n",
       "      <th>Weekday</th>\n",
       "      <th>Month</th>\n",
       "    </tr>\n",
       "  </thead>\n",
       "  <tbody>\n",
       "    <tr>\n",
       "      <th>0</th>\n",
       "      <td>2014-04-01 00:11:00</td>\n",
       "      <td>40.7690</td>\n",
       "      <td>-73.9549</td>\n",
       "      <td>B02512</td>\n",
       "      <td>0</td>\n",
       "      <td>1</td>\n",
       "      <td>1</td>\n",
       "      <td>4</td>\n",
       "    </tr>\n",
       "    <tr>\n",
       "      <th>1</th>\n",
       "      <td>2014-04-01 00:17:00</td>\n",
       "      <td>40.7267</td>\n",
       "      <td>-74.0345</td>\n",
       "      <td>B02512</td>\n",
       "      <td>0</td>\n",
       "      <td>1</td>\n",
       "      <td>1</td>\n",
       "      <td>4</td>\n",
       "    </tr>\n",
       "    <tr>\n",
       "      <th>2</th>\n",
       "      <td>2014-04-01 00:21:00</td>\n",
       "      <td>40.7316</td>\n",
       "      <td>-73.9873</td>\n",
       "      <td>B02512</td>\n",
       "      <td>0</td>\n",
       "      <td>1</td>\n",
       "      <td>1</td>\n",
       "      <td>4</td>\n",
       "    </tr>\n",
       "    <tr>\n",
       "      <th>3</th>\n",
       "      <td>2014-04-01 00:28:00</td>\n",
       "      <td>40.7588</td>\n",
       "      <td>-73.9776</td>\n",
       "      <td>B02512</td>\n",
       "      <td>0</td>\n",
       "      <td>1</td>\n",
       "      <td>1</td>\n",
       "      <td>4</td>\n",
       "    </tr>\n",
       "    <tr>\n",
       "      <th>4</th>\n",
       "      <td>2014-04-01 00:33:00</td>\n",
       "      <td>40.7594</td>\n",
       "      <td>-73.9722</td>\n",
       "      <td>B02512</td>\n",
       "      <td>0</td>\n",
       "      <td>1</td>\n",
       "      <td>1</td>\n",
       "      <td>4</td>\n",
       "    </tr>\n",
       "    <tr>\n",
       "      <th>...</th>\n",
       "      <td>...</td>\n",
       "      <td>...</td>\n",
       "      <td>...</td>\n",
       "      <td>...</td>\n",
       "      <td>...</td>\n",
       "      <td>...</td>\n",
       "      <td>...</td>\n",
       "      <td>...</td>\n",
       "    </tr>\n",
       "    <tr>\n",
       "      <th>4534322</th>\n",
       "      <td>2014-09-30 22:57:00</td>\n",
       "      <td>40.7668</td>\n",
       "      <td>-73.9845</td>\n",
       "      <td>B02764</td>\n",
       "      <td>22</td>\n",
       "      <td>30</td>\n",
       "      <td>1</td>\n",
       "      <td>9</td>\n",
       "    </tr>\n",
       "    <tr>\n",
       "      <th>4534323</th>\n",
       "      <td>2014-09-30 22:57:00</td>\n",
       "      <td>40.6911</td>\n",
       "      <td>-74.1773</td>\n",
       "      <td>B02764</td>\n",
       "      <td>22</td>\n",
       "      <td>30</td>\n",
       "      <td>1</td>\n",
       "      <td>9</td>\n",
       "    </tr>\n",
       "    <tr>\n",
       "      <th>4534324</th>\n",
       "      <td>2014-09-30 22:58:00</td>\n",
       "      <td>40.8519</td>\n",
       "      <td>-73.9319</td>\n",
       "      <td>B02764</td>\n",
       "      <td>22</td>\n",
       "      <td>30</td>\n",
       "      <td>1</td>\n",
       "      <td>9</td>\n",
       "    </tr>\n",
       "    <tr>\n",
       "      <th>4534325</th>\n",
       "      <td>2014-09-30 22:58:00</td>\n",
       "      <td>40.7081</td>\n",
       "      <td>-74.0066</td>\n",
       "      <td>B02764</td>\n",
       "      <td>22</td>\n",
       "      <td>30</td>\n",
       "      <td>1</td>\n",
       "      <td>9</td>\n",
       "    </tr>\n",
       "    <tr>\n",
       "      <th>4534326</th>\n",
       "      <td>2014-09-30 22:58:00</td>\n",
       "      <td>40.7140</td>\n",
       "      <td>-73.9496</td>\n",
       "      <td>B02764</td>\n",
       "      <td>22</td>\n",
       "      <td>30</td>\n",
       "      <td>1</td>\n",
       "      <td>9</td>\n",
       "    </tr>\n",
       "  </tbody>\n",
       "</table>\n",
       "<p>4534327 rows × 8 columns</p>\n",
       "</div>"
      ],
      "text/plain": [
       "                  Date/Time      Lat      Lon    Base  Hour  Day  Weekday  \\\n",
       "0       2014-04-01 00:11:00  40.7690 -73.9549  B02512     0    1        1   \n",
       "1       2014-04-01 00:17:00  40.7267 -74.0345  B02512     0    1        1   \n",
       "2       2014-04-01 00:21:00  40.7316 -73.9873  B02512     0    1        1   \n",
       "3       2014-04-01 00:28:00  40.7588 -73.9776  B02512     0    1        1   \n",
       "4       2014-04-01 00:33:00  40.7594 -73.9722  B02512     0    1        1   \n",
       "...                     ...      ...      ...     ...   ...  ...      ...   \n",
       "4534322 2014-09-30 22:57:00  40.7668 -73.9845  B02764    22   30        1   \n",
       "4534323 2014-09-30 22:57:00  40.6911 -74.1773  B02764    22   30        1   \n",
       "4534324 2014-09-30 22:58:00  40.8519 -73.9319  B02764    22   30        1   \n",
       "4534325 2014-09-30 22:58:00  40.7081 -74.0066  B02764    22   30        1   \n",
       "4534326 2014-09-30 22:58:00  40.7140 -73.9496  B02764    22   30        1   \n",
       "\n",
       "         Month  \n",
       "0            4  \n",
       "1            4  \n",
       "2            4  \n",
       "3            4  \n",
       "4            4  \n",
       "...        ...  \n",
       "4534322      9  \n",
       "4534323      9  \n",
       "4534324      9  \n",
       "4534325      9  \n",
       "4534326      9  \n",
       "\n",
       "[4534327 rows x 8 columns]"
      ]
     },
     "execution_count": 3,
     "metadata": {},
     "output_type": "execute_result"
    }
   ],
   "source": [
    "df['Date/Time'] = pd.to_datetime(df['Date/Time'])\n",
    "\n",
    "df['Hour'] = df['Date/Time'].dt.hour\n",
    "df['Day'] = df['Date/Time'].dt.day\n",
    "df['Weekday'] = df['Date/Time'].dt.weekday\n",
    "df['Month'] = df['Date/Time'].dt.month\n",
    "\n",
    "df"
   ]
  },
  {
   "cell_type": "code",
   "execution_count": 4,
   "metadata": {},
   "outputs": [
    {
     "data": {
      "image/png": "[encoded data removed]",
      "text/plain": [
       "<Figure size 1200x600 with 1 Axes>"
      ]
     },
     "metadata": {},
     "output_type": "display_data"
    }
   ],
   "source": [
    "import seaborn as sns\n",
    "import matplotlib.pyplot as plt\n",
    "\n",
    "plt.figure(figsize=(12,6))\n",
    "sns.countplot(x='Hour', data=df)\n",
    "plt.title('Uber Pickups by Hour (Apr-Sep 2014)')\n",
    "plt.xlabel('Hour of Day')\n",
    "plt.ylabel('Pickup Count')\n",
    "plt.grid(True)\n",
    "plt.show()"
   ]
  },
  {
   "cell_type": "code",
   "execution_count": 5,
   "metadata": {},
   "outputs": [
    {
     "data": {
      "image/png": "[encoded data removed]",
      "text/plain": [
       "<Figure size 1200x600 with 1 Axes>"
      ]
     },
     "metadata": {},
     "output_type": "display_data"
    }
   ],
   "source": [
    "plt.figure(figsize=(12,6))\n",
    "sns.countplot(x='Weekday', data=df)\n",
    "plt.title('Uber Pickups by Weekday (Apr-Sep 2014)')\n",
    "plt.xlabel('Day of the Week (0=Monday)')\n",
    "plt.ylabel('Pickup Count')\n",
    "plt.grid(True)\n",
    "plt.show()"
   ]
  },
  {
   "cell_type": "code",
   "execution_count": 6,
   "metadata": {},
   "outputs": [
    {
     "data": {
      "image/png": "[encoded data removed]",
      "text/plain": [
       "<Figure size 1200x600 with 2 Axes>"
      ]
     },
     "metadata": {},
     "output_type": "display_data"
    }
   ],
   "source": [
    "heatmap_data = df.groupby(['Weekday', 'Hour']).size().unstack()\n",
    "plt.figure(figsize=(12,6))\n",
    "sns.heatmap(heatmap_data, cmap='YlGnBu')\n",
    "plt.title('Heatmap of Uber Pickups: Weekday vs Hour')\n",
    "plt.xlabel('Hour of Day')\n",
    "plt.ylabel('Weekday (0=Monday)')\n",
    "plt.show()"
   ]
  },
  {
   "cell_type": "code",
   "execution_count": 7,
   "metadata": {},
   "outputs": [
    {
     "name": "stderr",
     "output_type": "stream",
     "text": [
      "C:\\Users\\saksh\\AppData\\Local\\Temp\\ipykernel_36132\\593675977.py:1: FutureWarning: 'H' is deprecated and will be removed in a future version, please use 'h' instead.\n",
      "  df['Date_Hour'] = df['Date/Time'].dt.floor('H')\n"
     ]
    },
    {
     "data": {
      "application/vnd.microsoft.datawrangler.viewer.v0+json": {
       "columns": [
        {
         "name": "index",
         "rawType": "int64",
         "type": "integer"
        },
        {
         "name": "Date_Hour",
         "rawType": "datetime64[ns]",
         "type": "datetime"
        },
        {
         "name": "Pickup_Count",
         "rawType": "int64",
         "type": "integer"
        },
        {
         "name": "Hour",
         "rawType": "int32",
         "type": "integer"
        },
        {
         "name": "Weekday",
         "rawType": "int32",
         "type": "integer"
        },
        {
         "name": "Day",
         "rawType": "int32",
         "type": "integer"
        },
        {
         "name": "Month",
         "rawType": "int32",
         "type": "integer"
        }
       ],
       "conversionMethod": "pd.DataFrame",
       "ref": "5ed02dac-33a3-4d3a-bc24-4dc2b295054c",
       "rows": [
        [
         "0",
         "2014-04-01 00:00:00",
         "138",
         "0",
         "1",
         "1",
         "4"
        ],
        [
         "1",
         "2014-04-01 01:00:00",
         "66",
         "1",
         "1",
         "1",
         "4"
        ],
        [
         "2",
         "2014-04-01 02:00:00",
         "53",
         "2",
         "1",
         "1",
         "4"
        ],
        [
         "3",
         "2014-04-01 03:00:00",
         "93",
         "3",
         "1",
         "1",
         "4"
        ],
        [
         "4",
         "2014-04-01 04:00:00",
         "166",
         "4",
         "1",
         "1",
         "4"
        ]
       ],
       "shape": {
        "columns": 6,
        "rows": 5
       }
      },
      "text/html": [
       "<div>\n",
       "<style scoped>\n",
       "    .dataframe tbody tr th:only-of-type {\n",
       "        vertical-align: middle;\n",
       "    }\n",
       "\n",
       "    .dataframe tbody tr th {\n",
       "        vertical-align: top;\n",
       "    }\n",
       "\n",
       "    .dataframe thead th {\n",
       "        text-align: right;\n",
       "    }\n",
       "</style>\n",
       "<table border=\"1\" class=\"dataframe\">\n",
       "  <thead>\n",
       "    <tr style=\"text-align: right;\">\n",
       "      <th></th>\n",
       "      <th>Date_Hour</th>\n",
       "      <th>Pickup_Count</th>\n",
       "      <th>Hour</th>\n",
       "      <th>Weekday</th>\n",
       "      <th>Day</th>\n",
       "      <th>Month</th>\n",
       "    </tr>\n",
       "  </thead>\n",
       "  <tbody>\n",
       "    <tr>\n",
       "      <th>0</th>\n",
       "      <td>2014-04-01 00:00:00</td>\n",
       "      <td>138</td>\n",
       "      <td>0</td>\n",
       "      <td>1</td>\n",
       "      <td>1</td>\n",
       "      <td>4</td>\n",
       "    </tr>\n",
       "    <tr>\n",
       "      <th>1</th>\n",
       "      <td>2014-04-01 01:00:00</td>\n",
       "      <td>66</td>\n",
       "      <td>1</td>\n",
       "      <td>1</td>\n",
       "      <td>1</td>\n",
       "      <td>4</td>\n",
       "    </tr>\n",
       "    <tr>\n",
       "      <th>2</th>\n",
       "      <td>2014-04-01 02:00:00</td>\n",
       "      <td>53</td>\n",
       "      <td>2</td>\n",
       "      <td>1</td>\n",
       "      <td>1</td>\n",
       "      <td>4</td>\n",
       "    </tr>\n",
       "    <tr>\n",
       "      <th>3</th>\n",
       "      <td>2014-04-01 03:00:00</td>\n",
       "      <td>93</td>\n",
       "      <td>3</td>\n",
       "      <td>1</td>\n",
       "      <td>1</td>\n",
       "      <td>4</td>\n",
       "    </tr>\n",
       "    <tr>\n",
       "      <th>4</th>\n",
       "      <td>2014-04-01 04:00:00</td>\n",
       "      <td>166</td>\n",
       "      <td>4</td>\n",
       "      <td>1</td>\n",
       "      <td>1</td>\n",
       "      <td>4</td>\n",
       "    </tr>\n",
       "  </tbody>\n",
       "</table>\n",
       "</div>"
      ],
      "text/plain": [
       "            Date_Hour  Pickup_Count  Hour  Weekday  Day  Month\n",
       "0 2014-04-01 00:00:00           138     0        1    1      4\n",
       "1 2014-04-01 01:00:00            66     1        1    1      4\n",
       "2 2014-04-01 02:00:00            53     2        1    1      4\n",
       "3 2014-04-01 03:00:00            93     3        1    1      4\n",
       "4 2014-04-01 04:00:00           166     4        1    1      4"
      ]
     },
     "execution_count": 7,
     "metadata": {},
     "output_type": "execute_result"
    }
   ],
   "source": [
    "df['Date_Hour'] = df['Date/Time'].dt.floor('H')\n",
    "\n",
    "demand_data = df.groupby('Date_Hour').size().reset_index(name='Pickup_Count')\n",
    "\n",
    "demand_data['Hour'] = demand_data['Date_Hour'].dt.hour\n",
    "demand_data['Weekday'] = demand_data['Date_Hour'].dt.weekday\n",
    "demand_data['Day'] = demand_data['Date_Hour'].dt.day\n",
    "demand_data['Month'] = demand_data['Date_Hour'].dt.month\n",
    "\n",
    "demand_data.head()"
   ]
  },
  {
   "cell_type": "code",
   "execution_count": 8,
   "metadata": {},
   "outputs": [],
   "source": [
    "from sklearn.model_selection import train_test_split\n",
    "\n",
    "X = demand_data[['Hour', 'Weekday', 'Day', 'Month']]\n",
    "y = demand_data['Pickup_Count']\n",
    "\n",
    "X_train, X_test, y_train, y_test = train_test_split(X, y, test_size=0.2, random_state=42)"
   ]
  },
  {
   "cell_type": "code",
   "execution_count": 10,
   "metadata": {},
   "outputs": [
    {
     "name": "stdout",
     "output_type": "stream",
     "text": [
      "RMSE: 473.11409418004166\n",
      "R2 Score: 0.4859000904049203\n"
     ]
    }
   ],
   "source": [
    "from sklearn.linear_model import LinearRegression\n",
    "from sklearn.metrics import mean_squared_error, r2_score\n",
    "import numpy as np\n",
    "\n",
    "lr = LinearRegression()\n",
    "lr.fit(X_train, y_train)\n",
    "\n",
    "y_pred = lr.predict(X_test)\n",
    "\n",
    "print(\"RMSE:\", np.sqrt(mean_squared_error(y_test, y_pred)))\n",
    "print(\"R2 Score:\", r2_score(y_test, y_pred))"
   ]
  },
  {
   "cell_type": "code",
   "execution_count": 11,
   "metadata": {},
   "outputs": [],
   "source": [
    "df_model = pd.get_dummies(df, columns=['Weekday'], drop_first=True)"
   ]
  },
  {
   "cell_type": "code",
   "execution_count": 13,
   "metadata": {},
   "outputs": [],
   "source": [
    "df_model = df.groupby(['Hour', 'Day', 'Month', 'Weekday']).size().reset_index(name='Pickup_Count')\n",
    "\n",
    "features = ['Hour', 'Day', 'Month'] + [col for col in df_model.columns if 'Weekday_' in col]\n",
    "X = df_model[features]\n",
    "y = df_model['Pickup_Count']"
   ]
  },
  {
   "cell_type": "code",
   "execution_count": 14,
   "metadata": {},
   "outputs": [],
   "source": [
    "from sklearn.model_selection import train_test_split\n",
    "\n",
    "X_train, X_test, y_train, y_test = train_test_split(X, y, test_size=0.2, random_state=42)"
   ]
  },
  {
   "cell_type": "code",
   "execution_count": 15,
   "metadata": {},
   "outputs": [
    {
     "name": "stdout",
     "output_type": "stream",
     "text": [
      "RMSE: 464.47559720166964\n",
      "R2 Score: 0.4559320023520551\n"
     ]
    }
   ],
   "source": [
    "lr = LinearRegression()\n",
    "lr.fit(X_train, y_train)\n",
    "\n",
    "y_pred = lr.predict(X_test)\n",
    "\n",
    "print(\"RMSE:\", np.sqrt(mean_squared_error(y_test, y_pred)))\n",
    "print(\"R2 Score:\", r2_score(y_test, y_pred))"
   ]
  },
  {
   "cell_type": "code",
   "execution_count": 16,
   "metadata": {},
   "outputs": [
    {
     "data": {
      "image/png": "[encoded data removed]",
      "text/plain": [
       "<Figure size 1000x500 with 1 Axes>"
      ]
     },
     "metadata": {},
     "output_type": "display_data"
    }
   ],
   "source": [
    "import matplotlib.pyplot as plt\n",
    "\n",
    "residuals = y_test - y_pred\n",
    "plt.figure(figsize=(10, 5))\n",
    "sns.histplot(residuals, bins=30, kde=True)\n",
    "plt.title(\"Distribution of Residuals\")\n",
    "plt.xlabel(\"Error\")\n",
    "plt.ylabel(\"Frequency\")\n",
    "plt.show()"
   ]
  },
  {
   "cell_type": "code",
   "execution_count": 17,
   "metadata": {},
   "outputs": [
    {
     "name": "stdout",
     "output_type": "stream",
     "text": [
      "RF RMSE: 265.7228872254879\n",
      "RF R2 Score: 0.8219322369679339\n"
     ]
    }
   ],
   "source": [
    "from sklearn.ensemble import RandomForestRegressor\n",
    "\n",
    "rf = RandomForestRegressor(n_estimators=100, random_state=42)\n",
    "rf.fit(X_train, y_train)\n",
    "y_rf_pred = rf.predict(X_test)\n",
    "\n",
    "print(\"RF RMSE:\", np.sqrt(mean_squared_error(y_test, y_rf_pred)))\n",
    "print(\"RF R2 Score:\", r2_score(y_test, y_rf_pred))"
   ]
  },
  {
   "cell_type": "code",
   "execution_count": 18,
   "metadata": {},
   "outputs": [
    {
     "data": {
      "image/png": "[encoded data removed]",
      "text/plain": [
       "<Figure size 1000x600 with 1 Axes>"
      ]
     },
     "metadata": {},
     "output_type": "display_data"
    }
   ],
   "source": [
    "import matplotlib.pyplot as plt\n",
    "import numpy as np\n",
    "\n",
    "importances = rf.feature_importances_\n",
    "\n",
    "feature_names = X.columns\n",
    "\n",
    "indices = np.argsort(importances)[::-1]\n",
    "\n",
    "plt.figure(figsize=(10, 6))\n",
    "plt.title(\"Feature Importances from Random Forest Model\")\n",
    "plt.barh(range(len(indices)), importances[indices], align=\"center\")\n",
    "plt.yticks(range(len(indices)), feature_names[indices])\n",
    "plt.xlabel(\"Relative Importance\")\n",
    "plt.show()"
   ]
  },
  {
   "cell_type": "code",
   "execution_count": null,
   "metadata": {},
   "outputs": [],
   "source": []
  }
 ],
 "metadata": {
  "kernelspec": {
   "display_name": "venv",
   "language": "python",
   "name": "python3"
  },
  "language_info": {
   "codemirror_mode": {
    "name": "ipython",
    "version": 3
   },
   "file_extension": ".py",
   "mimetype": "text/x-python",
   "name": "python",
   "nbconvert_exporter": "python",
   "pygments_lexer": "ipython3",
   "version": "3.12.5"
  }
 },
 "nbformat": 4,
 "nbformat_minor": 2
}
